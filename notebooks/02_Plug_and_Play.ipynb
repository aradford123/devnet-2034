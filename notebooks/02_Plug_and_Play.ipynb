{
 "cells": [
  {
   "cell_type": "markdown",
   "metadata": {},
   "source": [
    "# Network Plug and Play\n",
    "This workbook contains examples of the network plug and play API for APIC-EM using the uniq library.\n",
    "\n",
    "First get a connection to the __controller__"
   ]
  },
  {
   "cell_type": "code",
   "execution_count": 44,
   "metadata": {
    "collapsed": true
   },
   "outputs": [],
   "source": [
    "from login import login\n",
    "import json\n",
    "\n",
    "apic = login()"
   ]
  },
  {
   "cell_type": "markdown",
   "metadata": {},
   "source": [
    "## Get a list of projects\n",
    "\n",
    "getPnpSiteByRange\n"
   ]
  },
  {
   "cell_type": "code",
   "execution_count": 45,
   "metadata": {},
   "outputs": [
    {
     "name": "stdout",
     "output_type": "stream",
     "text": [
      "Project 4331 Primary: Rule count 0\n",
      "Project Branch: Rule count 1\n",
      "Project Branch Brno 01: Rule count 0\n",
      "Project Branch Ostrava 01: Rule count 0\n",
      "Project Branch Ostrava 02: Rule count 0\n",
      "Project Branch Plzen 01: Rule count 0\n",
      "Project Branch Plzen 02: Rule count 0\n",
      "Project Branch Plzen 03: Rule count 0\n",
      "Project Branch3-Site: Rule count 1\n",
      "Project Canberra-3114: Rule count 0\n",
      "Project Canberra-3882: Rule count 0\n",
      "Project Central branch 1: Rule count 1\n",
      "Project Melbourne-4829: Rule count 1\n",
      "Project Melbourne-6230: Rule count 1\n",
      "Project New Building: Rule count 2\n",
      "Project Sydney-4829: Rule count 2\n",
      "Project Sydney-6230: Rule count 2\n",
      "Project TEST123: Rule count 2\n",
      "Project Test_new: Rule count 3\n",
      "Project WS-LND-3114: Rule count 1\n",
      "Project WS-LND-4829: Rule count 0\n",
      "Project WS-Perth-3114: Rule count 2\n",
      "Project WS-Perth-4829: Rule count 2\n",
      "Project blueCloud: Rule count 4\n"
     ]
    }
   ],
   "source": [
    "# use this to save the name of a project with devices in it\n",
    "projectName = ''\n",
    "\n",
    "# get a list of all projects\n",
    "projects = apic.pnpproject.getPnpSiteByRange()\n",
    "\n",
    "# now print them out\n",
    "for project in projects.response:\n",
    "    \n",
    "    # save the name of a project with devicerules\n",
    "    if project.deviceCount > 0:\n",
    "        projectName = project.siteName\n",
    "    \n",
    "    # formatted print\n",
    "    print(\"Project {project}: Rule count {count}\".format(\n",
    "                            project=project.siteName, \n",
    "                            count=project.deviceCount))"
   ]
  },
  {
   "cell_type": "markdown",
   "metadata": {},
   "source": [
    "Look up the project by name, and then get all of the device rules for the site"
   ]
  },
  {
   "cell_type": "code",
   "execution_count": 46,
   "metadata": {},
   "outputs": [
    {
     "name": "stdout",
     "output_type": "stream",
     "text": [
      "Project:blueCloud, device count4\n",
      "\n",
      "Device rfra101   : serialNumber 12345678978: State PENDING       \n",
      "\n",
      "Device rmuc101   : serialNumber 12345678909: State PENDING       \n",
      "\n",
      "Device rmuc102   : serialNumber 12345678908: State PENDING       \n",
      "\n",
      "Device rfra102   : serialNumber 12345678907: State PENDING       \n",
      "\n"
     ]
    }
   ],
   "source": [
    "# look up project by name\n",
    "project = apic.pnpproject.getPnpSiteByRange(siteName=projectName)\n",
    "\n",
    "if project.response == []:\n",
    "    print(\"Project '%s' not found.\" % projectName)\n",
    "    raise ValueError(\"invalid project name\")\n",
    "\n",
    "# there will be only one match.  Cannot have multiple projects with the same name\n",
    "print('Project:{project}, device count{count}\\n'.format(project=projectName,\n",
    "                                                              count=project.response[0].deviceCount))\n",
    "# get the device rules\n",
    "devices = apic.pnpproject.getPnpSiteDevicesBySiteNameAndRange(projectId=project.response[0].id)\n",
    "for device in devices.response:\n",
    "    print(\"Device {hostName:10s}: serialNumber {serialNumber:11s}: State {state:14s}\\n\".format(\n",
    "                            hostName=device.hostName,\n",
    "                            serialNumber= device.serialNumber,\n",
    "                            state=device.state\n",
    "                            ))\n"
   ]
  },
  {
   "cell_type": "markdown",
   "metadata": {},
   "source": [
    "***\n",
    "Generate a random suffix.  This is required as projectnames, serial numbers and filenames need to be unique across the controller.  If you are using this on a dedicated controller, no need for this."
   ]
  },
  {
   "cell_type": "code",
   "execution_count": 47,
   "metadata": {},
   "outputs": [
    {
     "name": "stdout",
     "output_type": "stream",
     "text": [
      "RandomSuffix 552\n"
     ]
    }
   ],
   "source": [
    "import random\n",
    "randSuffix= ('{num:03d}'.format(num=int(random.random() * 999)))\n",
    "print(\"RandomSuffix\",randSuffix)"
   ]
  },
  {
   "cell_type": "markdown",
   "metadata": {},
   "source": [
    "### File Upload\n",
    "Upload a dummy configuration file.  "
   ]
  },
  {
   "cell_type": "code",
   "execution_count": 48,
   "metadata": {},
   "outputs": [
    {
     "name": "stdout",
     "output_type": "stream",
     "text": [
      "Configuration File_id: e5b5c11f-927f-465c-8079-accfcbd1843f\n"
     ]
    }
   ],
   "source": [
    "filename = \"/tmp/CONFIG\"+randSuffix\n",
    "with open(filename, \"w\") as filehandle:\n",
    "    print(\"hostname fred\", file=filehandle)\n",
    "file_result = apic.file.uploadFile(nameSpace=\"config\", fileUpload=filename)\n",
    "file_id = file_result.response.id\n",
    "print(\"Configuration File_id:\", file_id)\n"
   ]
  },
  {
   "cell_type": "markdown",
   "metadata": {},
   "source": [
    "### Creating project"
   ]
  },
  {
   "cell_type": "code",
   "execution_count": 49,
   "metadata": {},
   "outputs": [
    {
     "name": "stdout",
     "output_type": "stream",
     "text": [
      "creating project:ProjectPnP552\n",
      "ProjectId:2fa1c860-76c0-4b0d-8246-c80c96cc6d83\n"
     ]
    }
   ],
   "source": [
    "project_name = \"ProjectPnP\" + randSuffix\n",
    "\n",
    "print (\"creating project:{project}\".format(project=project_name))\n",
    "pnp_task_response= apic.pnpproject.createPnpSite(project=[{'siteName' :project_name}])\n",
    "task_response = apic.task_util.wait_for_task_complete(pnp_task_response, timeout=5)\n",
    "\n",
    "# 'progress': '{\"message\":\"Success creating new site\",\"siteId\":\"6e059831-b399-4667-b96d-8b184b6bc8ae\"}'\n",
    "progress = task_response.progress\n",
    "project_id = json.loads(progress)['siteId']\n",
    "print (\"ProjectId:%s\" % project_id)"
   ]
  },
  {
   "cell_type": "markdown",
   "metadata": {},
   "source": [
    "### Creating a rule"
   ]
  },
  {
   "cell_type": "code",
   "execution_count": 50,
   "metadata": {},
   "outputs": [
    {
     "name": "stdout",
     "output_type": "stream",
     "text": [
      "Rule Status: {\"message\":\"Success creating new site device(rule)\",\"ruleId\":\"8d347bb9-d996-4425-ab73-a00a2d37e013\"}\n"
     ]
    }
   ],
   "source": [
    "rule_data = [{\n",
    "        \"serialNumber\": \"12345678\" + randSuffix,\n",
    "        \"platformId\":  \"3850\",\n",
    "        \"hostName\": \"test_host\",\n",
    "        \"configId\" : file_id,\n",
    "        \"pkiEnabled\": True\n",
    "}]\n",
    "\n",
    "    \n",
    "rule_task = apic.pnpproject.createPnpSiteDevice(projectId=project_id, rule=rule_data)\n",
    "task_response = apic.task_util.wait_for_task_complete(rule_task, timeout=5)\n",
    "progress = task_response.progress\n",
    "print(\"Rule Status:\", progress)"
   ]
  },
  {
   "cell_type": "markdown",
   "metadata": {},
   "source": [
    "### Project deletion\n",
    "This deletes the project (by project_id).  All rules and device information is removed."
   ]
  },
  {
   "cell_type": "code",
   "execution_count": 51,
   "metadata": {},
   "outputs": [
    {
     "name": "stdout",
     "output_type": "stream",
     "text": [
      "{'id': 'a70d461b-2e3f-4177-81f4-0f6176b1cc05', 'isError': False, 'endTime': 1498434485937, 'startTime': 1498434485911, 'version': 1498434485911, 'progress': 'Success Deleting ZTD Site: id# 2fa1c860-76c0-4b0d-8246-c80c96cc6d83', 'serviceType': 'Ztd Service', 'rootId': 'a70d461b-2e3f-4177-81f4-0f6176b1cc05'}\n"
     ]
    }
   ],
   "source": [
    "pnp_task_response = apic.pnpproject.deletePnpSiteByID(projectId=project_id, deleteRule=1, deleteDevice=1)\n",
    "task_response = apic.task_util.wait_for_task_complete(pnp_task_response, timeout=5)\n",
    "print (apic.serialize(task_response))"
   ]
  },
  {
   "cell_type": "markdown",
   "metadata": {},
   "source": [
    "### File Deletion\n",
    "This is one of the few operations that are synchronous (no waiting)"
   ]
  },
  {
   "cell_type": "code",
   "execution_count": 52,
   "metadata": {},
   "outputs": [
    {
     "name": "stdout",
     "output_type": "stream",
     "text": [
      "{'version': '1.0', 'response': 'File id=e5b5c11f-927f-465c-8079-accfcbd1843f is deleted successfully'}\n"
     ]
    }
   ],
   "source": [
    "file_task = apic.file.deleteFile(fileId=file_id)\n",
    "print(apic.serialize(file_task))"
   ]
  },
  {
   "cell_type": "code",
   "execution_count": null,
   "metadata": {
    "collapsed": true
   },
   "outputs": [],
   "source": []
  }
 ],
 "metadata": {
  "kernelspec": {
   "display_name": "Python 3",
   "language": "python",
   "name": "python3"
  },
  "language_info": {
   "codemirror_mode": {
    "name": "ipython",
    "version": 3
   },
   "file_extension": ".py",
   "mimetype": "text/x-python",
   "name": "python",
   "nbconvert_exporter": "python",
   "pygments_lexer": "ipython3",
   "version": "3.4.4"
  }
 },
 "nbformat": 4,
 "nbformat_minor": 2
}
