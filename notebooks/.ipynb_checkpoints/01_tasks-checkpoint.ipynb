{
 "cells": [
  {
   "cell_type": "markdown",
   "metadata": {},
   "source": [
    "# Asynchonous Operation\n",
    "APIC-EM is a collection of stateless microservices.   All of the PUT/POST/DELETE operations are non-blocking (asynchronous).\n",
    "\n",
    "\n",
    "When an API resquest, the user gets a task that they need to poll until it completes.  The task will contain status information about the result.\n",
    "\n",
    "\n",
    "### Login\n",
    "This is a simplified login approach, where a module is used."
   ]
  },
  {
   "cell_type": "code",
   "execution_count": 6,
   "metadata": {
    "collapsed": true
   },
   "outputs": [],
   "source": [
    "from login import login\n",
    "import json\n",
    "apic = login()"
   ]
  },
  {
   "cell_type": "markdown",
   "metadata": {},
   "source": [
    "## Pathtrace\n",
    "The pathtrace service traces the path between two hosts across the network.  The first call to start a pathtrace will return a task.\n"
   ]
  },
  {
   "cell_type": "code",
   "execution_count": 13,
   "metadata": {
    "collapsed": true
   },
   "outputs": [],
   "source": [
    "flowTask = apic.flowanalysis.initiateFlowAnalysis(flowAnalysisRequest={\"sourceIP\": '10.1.15.117',\n",
    "                                                                           \"destIP\" : '10.2.1.22',\n",
    "                                                                           \"periodicRefresh\" : False})\n"
   ]
  },
  {
   "cell_type": "markdown",
   "metadata": {},
   "source": [
    "The response contains a 'taskId' to monitor the status of the request"
   ]
  },
  {
   "cell_type": "code",
   "execution_count": 14,
   "metadata": {},
   "outputs": [
    {
     "name": "stdout",
     "output_type": "stream",
     "text": [
      "{\n",
      "    \"response\": {\n",
      "        \"url\": \"/api/v1/flow-analysis/4a5982e2-a4a6-4530-8996-9c00f5c6f97c\",\n",
      "        \"flowAnalysisId\": \"4a5982e2-a4a6-4530-8996-9c00f5c6f97c\",\n",
      "        \"taskId\": \"1dc5bec8-a394-4336-bf95-7c6139d0f815\"\n",
      "    },\n",
      "    \"version\": \"1.0\"\n",
      "}\n"
     ]
    }
   ],
   "source": [
    "print (json.dumps(apic.serialize(flowTask), indent=4))"
   ]
  },
  {
   "cell_type": "markdown",
   "metadata": {},
   "source": [
    "### Tasks\n",
    "The 'wait_for_task_complete' method takes a task and an optional timout and polling_frequency.  It monitors the status of the task, and returns when the task is complete (or the timeout is reached)."
   ]
  },
  {
   "cell_type": "code",
   "execution_count": 15,
   "metadata": {},
   "outputs": [
    {
     "name": "stdout",
     "output_type": "stream",
     "text": [
      "{\n",
      "    \"lastUpdate\": 1498403866479,\n",
      "    \"isError\": false,\n",
      "    \"id\": \"1dc5bec8-a394-4336-bf95-7c6139d0f815\",\n",
      "    \"startTime\": 1498403858628,\n",
      "    \"endTime\": 1498403866489,\n",
      "    \"serviceType\": \"Policy Analysis Service\",\n",
      "    \"rootId\": \"1dc5bec8-a394-4336-bf95-7c6139d0f815\",\n",
      "    \"version\": 1498403866479,\n",
      "    \"progress\": \"4a5982e2-a4a6-4530-8996-9c00f5c6f97c\"\n",
      "}\n"
     ]
    }
   ],
   "source": [
    "# extrace the taskId\n",
    "taskId = flowTask.response.taskId\n",
    "\n",
    "# wait_for_task_complete is a utility function that polls APIC-EM until the task is completed.  \n",
    "# You can provide an optional timeout and polling interval\n",
    "taskStatus = apic.task_util.wait_for_task_complete(flowTask, timeout=15, poll_frequency=5)\n",
    "\n",
    "print(json.dumps(apic.serialize(taskStatus), indent=4))\n",
    "\n"
   ]
  },
  {
   "cell_type": "markdown",
   "metadata": {},
   "source": [
    "### 'progress' attribute\n",
    "The 'progress' attribute from the completed task is often used to provide information about the request.  In the case of a POST, it is usually an 'id' of the nely created resource."
   ]
  },
  {
   "cell_type": "code",
   "execution_count": 20,
   "metadata": {},
   "outputs": [
    {
     "name": "stdout",
     "output_type": "stream",
     "text": [
      "{\n",
      "    \"request\": {\n",
      "        \"id\": \"4a5982e2-a4a6-4530-8996-9c00f5c6f97c\",\n",
      "        \"status\": \"COMPLETED\",\n",
      "        \"destIP\": \"10.2.1.22\",\n",
      "        \"periodicRefresh\": false,\n",
      "        \"sourceIP\": \"10.1.15.117\",\n",
      "        \"lastUpdateTime\": 1498403866483,\n",
      "        \"createTime\": 1498403858628\n",
      "    },\n",
      "    \"lastUpdate\": \"Sun Jun 25 15:18:58 UTC 2017\",\n",
      "    \"detailedStatus\": {\n",
      "        \"aclTraceCalculation\": \"SUCCESS\"\n",
      "    },\n",
      "    \"networkElementsInfo\": [\n",
      "        {\n",
      "            \"ip\": \"10.1.15.117\",\n",
      "            \"linkInformationSource\": \"Switched\",\n",
      "            \"id\": \"48cdeb9b-b412-491e-a80c-7ec5bbe98167\",\n",
      "            \"type\": \"wireless\"\n",
      "        },\n",
      "        {\n",
      "            \"ip\": \"10.1.14.3\",\n",
      "            \"name\": \"AP7081.059f.19ca\",\n",
      "            \"tunnels\": [\n",
      "                \"CAPWAP Tunnel\"\n",
      "            ],\n",
      "            \"id\": \"cd6d9b24-839b-4d58-adfe-3fdf781e1782\",\n",
      "            \"type\": \"Unified AP\",\n",
      "            \"role\": \"ACCESS\",\n",
      "            \"linkInformationSource\": \"Switched\"\n",
      "        },\n",
      "        {\n",
      "            \"ip\": \"10.1.12.1\",\n",
      "            \"name\": \"CAMPUS-Access1\",\n",
      "            \"tunnels\": [\n",
      "                \"CAPWAP Tunnel\"\n",
      "            ],\n",
      "            \"egressInterface\": {\n",
      "                \"physicalInterface\": {\n",
      "                    \"name\": \"GigabitEthernet1/0/1\",\n",
      "                    \"id\": \"38c72319-855e-43bc-8458-94f695d435b6\"\n",
      "                }\n",
      "            },\n",
      "            \"id\": \"5b5ea8da-8c23-486a-b95e-7429684d25fc\",\n",
      "            \"type\": \"Switches and Hubs\",\n",
      "            \"role\": \"ACCESS\",\n",
      "            \"ingressInterface\": {\n",
      "                \"physicalInterface\": {\n",
      "                    \"name\": \"GigabitEthernet1/0/26\",\n",
      "                    \"id\": \"dd2c47ea-ad19-4a1e-ad0e-82d9deefd61b\"\n",
      "                }\n",
      "            },\n",
      "            \"linkInformationSource\": \"Switched\"\n",
      "        },\n",
      "        {\n",
      "            \"ip\": \"10.255.1.5\",\n",
      "            \"name\": \"CAMPUS-Dist1\",\n",
      "            \"tunnels\": [\n",
      "                \"CAPWAP Tunnel\"\n",
      "            ],\n",
      "            \"egressInterface\": {\n",
      "                \"physicalInterface\": {\n",
      "                    \"name\": \"GigabitEthernet5/38\",\n",
      "                    \"id\": \"1ac5854f-4659-442f-9bd2-f775aa3b260a\"\n",
      "                }\n",
      "            },\n",
      "            \"id\": \"c8ed3e49-5eeb-4dee-b120-edeb179c8394\",\n",
      "            \"type\": \"Switches and Hubs\",\n",
      "            \"role\": \"ACCESS\",\n",
      "            \"ingressInterface\": {\n",
      "                \"physicalInterface\": {\n",
      "                    \"name\": \"GigabitEthernet5/5\",\n",
      "                    \"id\": \"b10dcdea-1675-4509-b554-f047f6a37595\"\n",
      "                }\n",
      "            },\n",
      "            \"linkInformationSource\": \"Switched\"\n",
      "        },\n",
      "        {\n",
      "            \"ip\": \"10.1.14.2\",\n",
      "            \"name\": \"Campus-WLC-5508\",\n",
      "            \"tunnels\": [\n",
      "                \"CAPWAP Tunnel\"\n",
      "            ],\n",
      "            \"egressInterface\": {\n",
      "                \"physicalInterface\": {\n",
      "                    \"name\": \"GigabitEthernet0/0/1\",\n",
      "                    \"id\": \"4f063bed-7ca8-49dc-8fd4-63ff1613d59f\"\n",
      "                }\n",
      "            },\n",
      "            \"id\": \"ae19cd21-1b26-4f58-8ccd-d265deabb6c3\",\n",
      "            \"type\": \"Wireless Controller\",\n",
      "            \"role\": \"ACCESS\",\n",
      "            \"ingressInterface\": {\n",
      "                \"virtualInterface\": [\n",
      "                    {\n",
      "                        \"name\": \"clientinterface\",\n",
      "                        \"id\": \"eb8ef593-7174-4b73-85b8-35cd067a6bec\"\n",
      "                    }\n",
      "                ],\n",
      "                \"physicalInterface\": {\n",
      "                    \"name\": \"GigabitEthernet0/0/1\",\n",
      "                    \"id\": \"4f063bed-7ca8-49dc-8fd4-63ff1613d59f\"\n",
      "                }\n",
      "            },\n",
      "            \"linkInformationSource\": \"Switched\"\n",
      "        },\n",
      "        {\n",
      "            \"ip\": \"10.255.1.5\",\n",
      "            \"name\": \"CAMPUS-Dist1\",\n",
      "            \"egressInterface\": {\n",
      "                \"physicalInterface\": {\n",
      "                    \"name\": \"TenGigabitEthernet3/1\",\n",
      "                    \"id\": \"0b2984dd-7dbd-4cf3-9308-246bcf31673c\"\n",
      "                }\n",
      "            },\n",
      "            \"id\": \"c8ed3e49-5eeb-4dee-b120-edeb179c8394\",\n",
      "            \"type\": \"Switches and Hubs\",\n",
      "            \"role\": \"ACCESS\",\n",
      "            \"ingressInterface\": {\n",
      "                \"virtualInterface\": [\n",
      "                    {\n",
      "                        \"name\": \"Vlan600\",\n",
      "                        \"id\": \"4bfe4712-4860-4b4e-bc3e-58f64d3db870\"\n",
      "                    }\n",
      "                ],\n",
      "                \"physicalInterface\": {\n",
      "                    \"name\": \"GigabitEthernet5/38\",\n",
      "                    \"id\": \"1ac5854f-4659-442f-9bd2-f775aa3b260a\"\n",
      "                }\n",
      "            },\n",
      "            \"linkInformationSource\": \"ECMP\"\n",
      "        },\n",
      "        {\n",
      "            \"ip\": \"10.1.10.1\",\n",
      "            \"name\": \"CAMPUS-Core2\",\n",
      "            \"egressInterface\": {\n",
      "                \"physicalInterface\": {\n",
      "                    \"name\": \"GigabitEthernet1/3\",\n",
      "                    \"id\": \"8e3fd588-deef-4dc8-9885-560e0f48bf49\"\n",
      "                }\n",
      "            },\n",
      "            \"id\": \"1b329f52-95eb-44ad-9314-55932162ab86\",\n",
      "            \"type\": \"Switches and Hubs\",\n",
      "            \"role\": \"CORE\",\n",
      "            \"ingressInterface\": {\n",
      "                \"physicalInterface\": {\n",
      "                    \"name\": \"TenGigabitEthernet1/5\",\n",
      "                    \"id\": \"22f37b71-25f3-4b9a-945a-2c7d28345540\"\n",
      "                }\n",
      "            },\n",
      "            \"linkInformationSource\": \"ECMP\"\n",
      "        },\n",
      "        {\n",
      "            \"ip\": \"10.1.4.2\",\n",
      "            \"name\": \"CAMPUS-Router2\",\n",
      "            \"egressInterface\": {\n",
      "                \"physicalInterface\": {\n",
      "                    \"name\": \"GigabitEthernet0/0/3\",\n",
      "                    \"id\": \"e595740b-38fd-4c87-9cb3-407672ed9dc5\"\n",
      "                }\n",
      "            },\n",
      "            \"id\": \"55450140-de19-47b5-ae80-bfd741b23fd9\",\n",
      "            \"type\": \"Routers\",\n",
      "            \"role\": \"CORE\",\n",
      "            \"ingressInterface\": {\n",
      "                \"physicalInterface\": {\n",
      "                    \"name\": \"GigabitEthernet0/0/1\",\n",
      "                    \"id\": \"20c9326c-82b0-47b9-aee5-f57b7725bd01\"\n",
      "                }\n",
      "            },\n",
      "            \"linkInformationSource\": \"OSPF\"\n",
      "        },\n",
      "        {\n",
      "            \"ip\": \"UNKNOWN\",\n",
      "            \"name\": \"UNKNOWN\",\n",
      "            \"linkInformationSource\": \"NetFlow\",\n",
      "            \"id\": \"UNKNOWN\",\n",
      "            \"role\": \"UNKNOWN\"\n",
      "        },\n",
      "        {\n",
      "            \"ip\": \"10.2.2.2\",\n",
      "            \"name\": \"Branch-Router2\",\n",
      "            \"egressInterface\": {\n",
      "                \"physicalInterface\": {\n",
      "                    \"name\": \"GigabitEthernet0/2\",\n",
      "                    \"id\": \"1b46c64c-bb92-4998-bee2-283118075156\"\n",
      "                }\n",
      "            },\n",
      "            \"id\": \"6ce631db-9212-4587-867f-b8f3aed1702d\",\n",
      "            \"type\": \"Routers\",\n",
      "            \"role\": \"BORDER ROUTER\",\n",
      "            \"ingressInterface\": {\n",
      "                \"physicalInterface\": {\n",
      "                    \"name\": \"GigabitEthernet0/2\",\n",
      "                    \"id\": \"1b46c64c-bb92-4998-bee2-283118075156\"\n",
      "                }\n",
      "            },\n",
      "            \"linkInformationSource\": \"CONNECTED\"\n",
      "        },\n",
      "        {\n",
      "            \"ip\": \"10.2.1.17\",\n",
      "            \"name\": \"Branch-Access1\",\n",
      "            \"egressInterface\": {\n",
      "                \"physicalInterface\": {\n",
      "                    \"name\": \"GigabitEthernet1/0/47\",\n",
      "                    \"id\": \"7075521d-4d7b-4218-92f9-79b60e054635\"\n",
      "                }\n",
      "            },\n",
      "            \"id\": \"26450a30-57d8-4b56-b8f1-6fc535d67645\",\n",
      "            \"type\": \"Switches and Hubs\",\n",
      "            \"role\": \"ACCESS\",\n",
      "            \"ingressInterface\": {\n",
      "                \"physicalInterface\": {\n",
      "                    \"name\": \"GigabitEthernet1/0/1\",\n",
      "                    \"id\": \"05186c34-2ed8-4db4-bba3-ac9c2b68ad90\"\n",
      "                }\n",
      "            },\n",
      "            \"linkInformationSource\": \"Switched\"\n",
      "        },\n",
      "        {\n",
      "            \"ip\": \"10.2.1.22\",\n",
      "            \"id\": \"f624d4f3-0ab9-4ae3-b09d-62051edbd8f3\",\n",
      "            \"type\": \"wired\"\n",
      "        }\n",
      "    ]\n",
      "}\n"
     ]
    }
   ],
   "source": [
    "# this is the id of the pathtrace result that we need to GET.\n",
    "flowId = taskStatus.progress\n",
    "\n",
    "# this will get the pathTrace\n",
    "pathTrace = apic.flowanalysis.getFullFlowAnalysisResult(flowAnalysisId=flowId)\n",
    "\n",
    "print (json.dumps(apic.serialize(pathTrace.response),indent=4))"
   ]
  },
  {
   "cell_type": "markdown",
   "metadata": {},
   "source": [
    "This result can be pretty printed"
   ]
  },
  {
   "cell_type": "code",
   "execution_count": 22,
   "metadata": {},
   "outputs": [
    {
     "name": "stdout",
     "output_type": "stream",
     "text": [
      "None: 10.1.15.117\n",
      "\n",
      "AP7081.059f.19ca: 10.1.14.3\n",
      "\n",
      "CAMPUS-Access1: 10.1.12.1\n",
      "\n",
      "CAMPUS-Dist1: 10.255.1.5\n",
      "\n",
      "Campus-WLC-5508: 10.1.14.2\n",
      "\n",
      "CAMPUS-Dist1: 10.255.1.5\n",
      "\n",
      "CAMPUS-Core2: 10.1.10.1\n",
      "\n",
      "CAMPUS-Router2: 10.1.4.2\n",
      "\n",
      "UNKNOWN: UNKNOWN\n",
      "\n",
      "Branch-Router2: 10.2.2.2\n",
      "\n",
      "Branch-Access1: 10.2.1.17\n",
      "\n",
      "None: 10.2.1.22\n",
      "\n"
     ]
    }
   ],
   "source": [
    "for device in pathTrace.response.networkElementsInfo:\n",
    "    print(\"{name}: {ip}\\n\".format(name=device.name, ip=device.ip))"
   ]
  },
  {
   "cell_type": "code",
   "execution_count": null,
   "metadata": {
    "collapsed": true
   },
   "outputs": [],
   "source": []
  }
 ],
 "metadata": {
  "kernelspec": {
   "display_name": "Python 3",
   "language": "python",
   "name": "python3"
  },
  "language_info": {
   "codemirror_mode": {
    "name": "ipython",
    "version": 3
   },
   "file_extension": ".py",
   "mimetype": "text/x-python",
   "name": "python",
   "nbconvert_exporter": "python",
   "pygments_lexer": "ipython3",
   "version": "3.4.4"
  }
 },
 "nbformat": 4,
 "nbformat_minor": 2
}
